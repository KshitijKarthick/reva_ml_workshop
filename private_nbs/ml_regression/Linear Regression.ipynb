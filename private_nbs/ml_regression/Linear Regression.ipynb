{
 "cells": [
  {
   "cell_type": "code",
   "execution_count": 2,
   "metadata": {},
   "outputs": [],
   "source": [
    "# Import all dependencies required for the problem.\n",
    "from __future__ import print_function\n",
    "from plotly.offline import iplot, init_notebook_mode\n",
    "\n",
    "import numpy as np\n",
    "import pandas as pd\n",
    "import plotly.graph_objs as go\n",
    "\n",
    "from sklearn import preprocessing\n",
    "from sklearn.linear_model import LinearRegression\n",
    "from sklearn.model_selection import train_test_split"
   ]
  },
  {
   "cell_type": "code",
   "execution_count": 3,
   "metadata": {},
   "outputs": [
    {
     "data": {
      "text/html": [
       "<script>requirejs.config({paths: { 'plotly': ['https://cdn.plot.ly/plotly-latest.min']},});if(!window.Plotly) {{require(['plotly'],function(plotly) {window.Plotly=plotly;});}}</script>"
      ],
      "text/vnd.plotly.v1+html": [
       "<script>requirejs.config({paths: { 'plotly': ['https://cdn.plot.ly/plotly-latest.min']},});if(!window.Plotly) {{require(['plotly'],function(plotly) {window.Plotly=plotly;});}}</script>"
      ]
     },
     "metadata": {},
     "output_type": "display_data"
    }
   ],
   "source": [
    "# Set a Seed for random number generation for reproducible results\n",
    "init_notebook_mode(connected=True)\n",
    "RANDOM_SEED = 42\n",
    "np.random.seed(RANDOM_SEED)"
   ]
  },
  {
   "cell_type": "code",
   "execution_count": 4,
   "metadata": {},
   "outputs": [],
   "source": [
    "# Load the titanic dataset using Pandas library \n",
    "df = pd.read_csv('../../data/salary_dataset.csv')"
   ]
  },
  {
   "cell_type": "code",
   "execution_count": 5,
   "metadata": {},
   "outputs": [
    {
     "data": {
      "text/html": [
       "<div>\n",
       "<style scoped>\n",
       "    .dataframe tbody tr th:only-of-type {\n",
       "        vertical-align: middle;\n",
       "    }\n",
       "\n",
       "    .dataframe tbody tr th {\n",
       "        vertical-align: top;\n",
       "    }\n",
       "\n",
       "    .dataframe thead th {\n",
       "        text-align: right;\n",
       "    }\n",
       "</style>\n",
       "<table border=\"1\" class=\"dataframe\">\n",
       "  <thead>\n",
       "    <tr style=\"text-align: right;\">\n",
       "      <th></th>\n",
       "      <th>YearsExperience</th>\n",
       "      <th>Salary</th>\n",
       "    </tr>\n",
       "  </thead>\n",
       "  <tbody>\n",
       "    <tr>\n",
       "      <th>0</th>\n",
       "      <td>1.1</td>\n",
       "      <td>39343.0</td>\n",
       "    </tr>\n",
       "    <tr>\n",
       "      <th>1</th>\n",
       "      <td>1.3</td>\n",
       "      <td>46205.0</td>\n",
       "    </tr>\n",
       "    <tr>\n",
       "      <th>2</th>\n",
       "      <td>1.5</td>\n",
       "      <td>37731.0</td>\n",
       "    </tr>\n",
       "    <tr>\n",
       "      <th>3</th>\n",
       "      <td>2.0</td>\n",
       "      <td>43525.0</td>\n",
       "    </tr>\n",
       "    <tr>\n",
       "      <th>4</th>\n",
       "      <td>2.2</td>\n",
       "      <td>39891.0</td>\n",
       "    </tr>\n",
       "  </tbody>\n",
       "</table>\n",
       "</div>"
      ],
      "text/plain": [
       "   YearsExperience   Salary\n",
       "0              1.1  39343.0\n",
       "1              1.3  46205.0\n",
       "2              1.5  37731.0\n",
       "3              2.0  43525.0\n",
       "4              2.2  39891.0"
      ]
     },
     "execution_count": 5,
     "metadata": {},
     "output_type": "execute_result"
    }
   ],
   "source": [
    "df.head()"
   ]
  },
  {
   "cell_type": "code",
   "execution_count": 7,
   "metadata": {},
   "outputs": [],
   "source": [
    "# Split the dataset into dependent features (passenger details used for prediction)\n",
    "# and target features (prediction if the passenger survived)\n",
    "x = df.loc[:,:'YearsExperience']\n",
    "y = df['Salary']"
   ]
  },
  {
   "cell_type": "code",
   "execution_count": null,
   "metadata": {},
   "outputs": [],
   "source": []
  },
  {
   "cell_type": "code",
   "execution_count": 12,
   "metadata": {},
   "outputs": [],
   "source": [
    "# Split the dataset into train and test, for learning from one dataset and test it on the other.\n",
    "X_train, X_test, y_train, y_test = train_test_split(\n",
    "    x, y, test_size=0.2, random_state=42)"
   ]
  },
  {
   "cell_type": "code",
   "execution_count": 14,
   "metadata": {},
   "outputs": [
    {
     "data": {
      "text/plain": [
       "LinearRegression(copy_X=True, fit_intercept=True, n_jobs=1, normalize=False)"
      ]
     },
     "execution_count": 14,
     "metadata": {},
     "output_type": "execute_result"
    }
   ],
   "source": [
    "regressor = LinearRegression()\n",
    "regressor.fit(X_train, y_train)"
   ]
  },
  {
   "cell_type": "code",
   "execution_count": 16,
   "metadata": {},
   "outputs": [
    {
     "name": "stdout",
     "output_type": "stream",
     "text": [
      "Root Mean Squared Error Linear Regression Model: 7059.04\n"
     ]
    }
   ],
   "source": [
    "from math import sqrt\n",
    "from sklearn.metrics import mean_squared_error\n",
    "print(\"Root Mean Squared Error Linear Regression Model: {:.2f}\".format(\n",
    "    sqrt(mean_squared_error(y_test.values, regressor.predict(X_test)))\n",
    "))"
   ]
  },
  {
   "cell_type": "code",
   "execution_count": 17,
   "metadata": {},
   "outputs": [
    {
     "data": {
      "application/vnd.plotly.v1+json": {
       "data": [
        {
         "connectgaps": true,
         "mode": "markers",
         "name": "Training Data",
         "type": "scatter",
         "x": [
          10.3,
          8.7,
          4,
          1.1,
          2.2,
          5.1,
          2.9,
          4.1,
          4,
          7.9,
          1.3,
          1.5,
          9,
          2,
          7.1,
          9.5,
          5.9,
          10.5,
          6.8,
          3.2,
          3.9,
          4.5,
          6,
          3
         ],
         "y": [
          122391,
          109431,
          56957,
          39343,
          39891,
          66029,
          56642,
          57081,
          55794,
          101302,
          46205,
          37731,
          105582,
          43525,
          98273,
          116969,
          81363,
          121872,
          91738,
          54445,
          63218,
          61111,
          93940,
          60150
         ]
        },
        {
         "connectgaps": true,
         "name": "Model Prediction",
         "type": "scatter",
         "x": [
          10.3,
          8.7,
          4,
          1.1,
          2.2,
          5.1,
          2.9,
          4.1,
          4,
          7.9,
          1.3,
          1.5,
          9,
          2,
          7.1,
          9.5,
          5.9,
          10.5,
          6.8,
          3.2,
          3.9,
          4.5,
          6,
          3
         ],
         "y": [
          122386.88083899589,
          107308.7763221463,
          63016.84430390072,
          35687.77986711089,
          46053.97672244496,
          73383.0411592348,
          52650.64744856664,
          63959.22583620381,
          63016.84430390072,
          99769.72406372151,
          37572.54293171708,
          39457.30599632328,
          110135.92091905561,
          44169.213657838765,
          92230.67180529673,
          114847.82858057108,
          80922.09341765958,
          124271.64390360206,
          89403.52720838744,
          55477.79204547594,
          62074.46277159762,
          67728.75196541622,
          81864.47494996266,
          53593.02898086974
         ]
        }
       ],
       "layout": {
        "title": "Salary vs Experience",
        "xaxis": {
         "title": "Experience (years)"
        },
        "yaxis": {
         "title": "Salary"
        }
       }
      },
      "text/html": [
       "<div id=\"3c730d5e-da63-4503-8c2d-c0b5eb1005ed\" style=\"height: 525px; width: 100%;\" class=\"plotly-graph-div\"></div><script type=\"text/javascript\">require([\"plotly\"], function(Plotly) { window.PLOTLYENV=window.PLOTLYENV || {};window.PLOTLYENV.BASE_URL=\"https://plot.ly\";Plotly.newPlot(\"3c730d5e-da63-4503-8c2d-c0b5eb1005ed\", [{\"y\": [122391.0, 109431.0, 56957.0, 39343.0, 39891.0, 66029.0, 56642.0, 57081.0, 55794.0, 101302.0, 46205.0, 37731.0, 105582.0, 43525.0, 98273.0, 116969.0, 81363.0, 121872.0, 91738.0, 54445.0, 63218.0, 61111.0, 93940.0, 60150.0], \"connectgaps\": true, \"name\": \"Training Data\", \"x\": [10.3, 8.7, 4.0, 1.1, 2.2, 5.1, 2.9, 4.1, 4.0, 7.9, 1.3, 1.5, 9.0, 2.0, 7.1, 9.5, 5.9, 10.5, 6.8, 3.2, 3.9, 4.5, 6.0, 3.0], \"type\": \"scatter\", \"mode\": \"markers\"}, {\"y\": [122386.88083899589, 107308.7763221463, 63016.84430390072, 35687.77986711089, 46053.97672244496, 73383.0411592348, 52650.64744856664, 63959.22583620381, 63016.84430390072, 99769.72406372151, 37572.54293171708, 39457.30599632328, 110135.92091905561, 44169.213657838765, 92230.67180529673, 114847.82858057108, 80922.09341765958, 124271.64390360206, 89403.52720838744, 55477.79204547594, 62074.46277159762, 67728.75196541622, 81864.47494996266, 53593.02898086974], \"connectgaps\": true, \"name\": \"Model Prediction\", \"type\": \"scatter\", \"x\": [10.3, 8.7, 4.0, 1.1, 2.2, 5.1, 2.9, 4.1, 4.0, 7.9, 1.3, 1.5, 9.0, 2.0, 7.1, 9.5, 5.9, 10.5, 6.8, 3.2, 3.9, 4.5, 6.0, 3.0]}], {\"xaxis\": {\"title\": \"Experience (years)\"}, \"yaxis\": {\"title\": \"Salary\"}, \"title\": \"Salary vs Experience\"}, {\"showLink\": true, \"linkText\": \"Export to plot.ly\"})});</script>"
      ],
      "text/vnd.plotly.v1+html": [
       "<div id=\"3c730d5e-da63-4503-8c2d-c0b5eb1005ed\" style=\"height: 525px; width: 100%;\" class=\"plotly-graph-div\"></div><script type=\"text/javascript\">require([\"plotly\"], function(Plotly) { window.PLOTLYENV=window.PLOTLYENV || {};window.PLOTLYENV.BASE_URL=\"https://plot.ly\";Plotly.newPlot(\"3c730d5e-da63-4503-8c2d-c0b5eb1005ed\", [{\"y\": [122391.0, 109431.0, 56957.0, 39343.0, 39891.0, 66029.0, 56642.0, 57081.0, 55794.0, 101302.0, 46205.0, 37731.0, 105582.0, 43525.0, 98273.0, 116969.0, 81363.0, 121872.0, 91738.0, 54445.0, 63218.0, 61111.0, 93940.0, 60150.0], \"connectgaps\": true, \"name\": \"Training Data\", \"x\": [10.3, 8.7, 4.0, 1.1, 2.2, 5.1, 2.9, 4.1, 4.0, 7.9, 1.3, 1.5, 9.0, 2.0, 7.1, 9.5, 5.9, 10.5, 6.8, 3.2, 3.9, 4.5, 6.0, 3.0], \"type\": \"scatter\", \"mode\": \"markers\"}, {\"y\": [122386.88083899589, 107308.7763221463, 63016.84430390072, 35687.77986711089, 46053.97672244496, 73383.0411592348, 52650.64744856664, 63959.22583620381, 63016.84430390072, 99769.72406372151, 37572.54293171708, 39457.30599632328, 110135.92091905561, 44169.213657838765, 92230.67180529673, 114847.82858057108, 80922.09341765958, 124271.64390360206, 89403.52720838744, 55477.79204547594, 62074.46277159762, 67728.75196541622, 81864.47494996266, 53593.02898086974], \"connectgaps\": true, \"name\": \"Model Prediction\", \"type\": \"scatter\", \"x\": [10.3, 8.7, 4.0, 1.1, 2.2, 5.1, 2.9, 4.1, 4.0, 7.9, 1.3, 1.5, 9.0, 2.0, 7.1, 9.5, 5.9, 10.5, 6.8, 3.2, 3.9, 4.5, 6.0, 3.0]}], {\"xaxis\": {\"title\": \"Experience (years)\"}, \"yaxis\": {\"title\": \"Salary\"}, \"title\": \"Salary vs Experience\"}, {\"showLink\": true, \"linkText\": \"Export to plot.ly\"})});</script>"
      ]
     },
     "metadata": {},
     "output_type": "display_data"
    }
   ],
   "source": [
    "plot1 = go.Scatter(\n",
    "    x = X_train['YearsExperience'].values,\n",
    "    y = y_train.values,\n",
    "    name='Training Data',\n",
    "    mode='markers',\n",
    "    connectgaps=True\n",
    ")\n",
    "\n",
    "plot2 = go.Scatter(\n",
    "    x = X_train['YearsExperience'].values,\n",
    "    y = regressor.predict(X_train.values),\n",
    "    name='Model Prediction',\n",
    "    connectgaps=True\n",
    ")\n",
    "\n",
    "fig = dict(data=[plot1, plot2], layout=dict(\n",
    "    title='Salary vs Experience',\n",
    "    xaxis=dict(title='Experience (years)'),\n",
    "    yaxis=dict(title='Salary')))\n",
    "iplot(fig)"
   ]
  }
 ],
 "metadata": {
  "kernelspec": {
   "display_name": "Python 3",
   "language": "python",
   "name": "python3"
  },
  "language_info": {
   "codemirror_mode": {
    "name": "ipython",
    "version": 3
   },
   "file_extension": ".py",
   "mimetype": "text/x-python",
   "name": "python",
   "nbconvert_exporter": "python",
   "pygments_lexer": "ipython3",
   "version": "3.5.2"
  }
 },
 "nbformat": 4,
 "nbformat_minor": 2
}
